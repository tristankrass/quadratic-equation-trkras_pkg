{
 "nbformat": 4,
 "nbformat_minor": 2,
 "metadata": {
  "language_info": {
   "name": "python",
   "codemirror_mode": {
    "name": "ipython",
    "version": 3
   },
   "version": "3.7.7-final"
  },
  "orig_nbformat": 2,
  "file_extension": ".py",
  "mimetype": "text/x-python",
  "name": "python",
  "npconvert_exporter": "python",
  "pygments_lexer": "ipython3",
  "version": 3,
  "kernelspec": {
   "name": "python37764bitflightconda61f1077b83b34ed69282ebfeb847b5b1",
   "display_name": "Python 3.7.7 64-bit ('flight': conda)"
  }
 },
 "cells": [
  {
   "cell_type": "code",
   "execution_count": 2,
   "metadata": {},
   "outputs": [
    {
     "output_type": "execute_result",
     "data": {
      "text/plain": "  IATA         City  Latitude   Longitude\n0  GKA       Goroka  -6.08169  145.391998\n1  MAG       Madang  -5.20708  145.789001\n2  HGU  Mount Hagen  -5.82679  144.296005",
      "text/html": "<div>\n<style scoped>\n    .dataframe tbody tr th:only-of-type {\n        vertical-align: middle;\n    }\n\n    .dataframe tbody tr th {\n        vertical-align: top;\n    }\n\n    .dataframe thead th {\n        text-align: right;\n    }\n</style>\n<table border=\"1\" class=\"dataframe\">\n  <thead>\n    <tr style=\"text-align: right;\">\n      <th></th>\n      <th>IATA</th>\n      <th>City</th>\n      <th>Latitude</th>\n      <th>Longitude</th>\n    </tr>\n  </thead>\n  <tbody>\n    <tr>\n      <th>0</th>\n      <td>GKA</td>\n      <td>Goroka</td>\n      <td>-6.08169</td>\n      <td>145.391998</td>\n    </tr>\n    <tr>\n      <th>1</th>\n      <td>MAG</td>\n      <td>Madang</td>\n      <td>-5.20708</td>\n      <td>145.789001</td>\n    </tr>\n    <tr>\n      <th>2</th>\n      <td>HGU</td>\n      <td>Mount Hagen</td>\n      <td>-5.82679</td>\n      <td>144.296005</td>\n    </tr>\n  </tbody>\n</table>\n</div>"
     },
     "metadata": {},
     "execution_count": 2
    }
   ],
   "source": [
    "import pandas as pd\n",
    "\n",
    "data = pd.read_csv('airport_data.csv')\n",
    "cities = pd.read_csv('otse.csv', delimiter=';')\n",
    "\n",
    "\n",
    "some_data = data[['IATA', 'City', 'Latitude', 'Longitude',]]\n",
    "\n",
    "some_data.head(3)\n",
    ""
   ]
  },
  {
   "cell_type": "code",
   "execution_count": null,
   "metadata": {
    "tags": [
     "outputPrepend"
    ]
   },
   "outputs": [],
   "source": [
    "for i, row in cities.iterrows():\n",
    "    #print(row['IATA'] + \" ----> \" + row['City'])\n",
    "    val = some_data['IATA'] == row['IATA']\n",
    "    if data.bool(val):\n",
    "        print(\"d\")"
   ]
  },
  {
   "cell_type": "code",
   "execution_count": 12,
   "metadata": {},
   "outputs": [],
   "source": [
    "df1 = data.head()\n",
    "df2 = cities.head()\n",
    "\n",
    "l = pd.DataFrame()\n",
    "c = cities.head()\n",
    "\n",
    "for i, row in df2.iterrows():\n",
    "    #if df2['IATA'].apply(lambda x: True if x == 'TLL' else False):\n",
    "    a = row['IATA']\n",
    "    l.append(data.loc[data['IATA'] == a])\n"
   ]
  },
  {
   "cell_type": "code",
   "execution_count": null,
   "metadata": {},
   "outputs": [],
   "source": []
  }
 ]
}