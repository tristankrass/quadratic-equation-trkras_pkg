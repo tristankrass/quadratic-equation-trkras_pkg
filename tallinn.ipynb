{
 "nbformat": 4,
 "nbformat_minor": 2,
 "metadata": {
  "language_info": {
   "name": "python",
   "codemirror_mode": {
    "name": "ipython",
    "version": 3
   },
   "version": "3.7.7-final"
  },
  "orig_nbformat": 2,
  "file_extension": ".py",
  "mimetype": "text/x-python",
  "name": "python",
  "npconvert_exporter": "python",
  "pygments_lexer": "ipython3",
  "version": 3,
  "kernelspec": {
   "name": "python37764bitflightconda61f1077b83b34ed69282ebfeb847b5b1",
   "display_name": "Python 3.7.7 64-bit ('flight': conda)"
  }
 },
 "cells": [
  {
   "cell_type": "code",
   "execution_count": 1,
   "metadata": {},
   "outputs": [],
   "source": [
    "import numpy as np\n",
    "import pandas as pd\n",
    "\n",
    "# All the direct flights from Tallinn airport \n",
    "cities = pd.read_csv('otselennud.csv', delimiter=\";\")\n",
    "other_data = pd.read_csv('airport_data.csv')\n",
    "# Add coordinates to the data file\n",
    "merged = pd.merge(cities, other_data, on='IATA', how='left')\n",
    ""
   ]
  },
  {
   "cell_type": "code",
   "execution_count": null,
   "metadata": {},
   "outputs": [],
   "source": [
    "\n",
    "\n"
   ]
  },
  {
   "cell_type": "code",
   "execution_count": null,
   "metadata": {},
   "outputs": [],
   "source": [
    "\n",
    "\n"
   ]
  }
 ]
}